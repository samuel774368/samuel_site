{
 "cells": [
  {
   "cell_type": "markdown",
   "id": "fcbe0b0b",
   "metadata": {},
   "source": [
    "# 📘 Projeto de Programação Orientada a Objetos – 2º Bimestre\n",
    "\n",
    "**Nome do Aluno:*samuel xavier mubarac*                      \n",
    "\n",
    "**Turma:*2 ano A TI*\n",
    "\n",
    "**Tema Escolhido:*Crie um sistema que cadastre atividades extracurriculares*"
   ]
  },
  {
   "cell_type": "markdown",
   "id": "47e697ce",
   "metadata": {},
   "source": [
    "Lembre-se esse projeto deve ser personalizado, todas as classe e metodos devem ter uma referencia ao seu nome, exemplo:\n",
    "\n",
    "class Carro_Fabio:\n",
    "\n",
    "    def __init__(self, tipo, cor, rodas):\n",
    "        self.tipo = tipo\n",
    "        self.cor = cor\n",
    "        self.rodas = rodas\n",
    "        \n",
    "    def alterar_cor_Fabio(self, nova_cor):\n",
    "        self.cor = nova_cor\n",
    "        return self.cor\n",
    "    "
   ]
  },
  {
   "cell_type": "markdown",
   "id": "bf0b9458",
   "metadata": {},
   "source": [
    "## PARTE 1 – Classe Principal e Objetos\n",
    "\n",
    "**Tarefas:**\n",
    "- Definir e criar a classe principal com pelo menos 3 atributos.\n",
    "- Implementar o método construtor (`__init__`).\n",
    "- Criar pelo menos 2 objetos da classe principal.\n",
    "- Implementar um método de exibição de dados.\n",
    "\n",
    "**Código:**"
   ]
  },
  {
   "cell_type": "code",
   "execution_count": 1,
   "id": "5721fa89",
   "metadata": {},
   "outputs": [],
   "source": [
    "# Desenvolva aqui o código da Parte 1"
   ]
  },
  {
   "cell_type": "markdown",
   "id": "f2cf3375",
   "metadata": {},
   "source": [
    "## PARTE 2 – Métodos e Herança\n",
    "\n",
    "**Tarefas:**\n",
    "- Criar pelo menos 2 métodos de ação para a classe principal.\n",
    "- Criar uma subclasse herdando da classe principal.\n",
    "- Adicionar pelo menos 1 novo atributo e 1 novo método exclusivo na subclasse.\n",
    "- Utilizar `super()` no construtor da subclasse.\n",
    "\n",
    "**Código:**"
   ]
  },
  {
   "cell_type": "code",
   "execution_count": 2,
   "id": "5f456eb1",
   "metadata": {},
   "outputs": [],
   "source": [
    "# Desenvolva aqui o código da Parte 2"
   ]
  },
  {
   "cell_type": "markdown",
   "id": "3e0a77b0",
   "metadata": {},
   "source": [
    "## PARTE 3 – Encapsulamento e Abstração\n",
    "\n",
    "**Tarefas:**\n",
    "- Tornar pelo menos 1 atributo da classe principal privado (`__atributo`).\n",
    "- Criar métodos `get` e `set` para o atributo privado.\n",
    "- Implementar um método que contenha lógica interna (ex: cálculo, verificação).\n",
    "\n",
    "**Código:**"
   ]
  },
  {
   "cell_type": "code",
   "execution_count": 3,
   "id": "0bdb445e",
   "metadata": {},
   "outputs": [],
   "source": [
    "# Desenvolva aqui o código da Parte 3"
   ]
  },
  {
   "cell_type": "markdown",
   "id": "fb9df3e9",
   "metadata": {},
   "source": [
    "## PARTE 4 – Polimorfismo e Banco de Dados\n",
    "\n",
    "**Tarefas:**\n",
    "- Implementar polimorfismo: sobrescrever um método na subclasse.\n",
    "- Integrar o sistema com banco de dados (MySQL ou SQLite).\n",
    "- Implementar inserção (INSERT), consulta (SELECT) e exclusão (DELETE) de registros no banco de dados.\n",
    "\n",
    "**Código:**"
   ]
  },
  {
   "cell_type": "code",
   "execution_count": 4,
   "id": "56a4c46a",
   "metadata": {},
   "outputs": [],
   "source": [
    "# Desenvolva aqui o código da Parte 4"
   ]
  },
  {
   "cell_type": "markdown",
   "id": "d8bbf974",
   "metadata": {},
   "source": [
    "## PARTE 5 – Projeto Final e Organização\n",
    "\n",
    "**Tarefas:**\n",
    "- Consolidar todas as partes do projeto em um único script organizado.\n",
    "- Comentar o código explicando cada parte.\n",
    "- Testar todas as funcionalidades.\n",
    "\n",
    "**Código:**"
   ]
  },
  {
   "cell_type": "code",
   "execution_count": null,
   "id": "54b3cdd7",
   "metadata": {},
   "outputs": [],
   "source": [
    "import mysql.connector\n",
    "\n",
    "class AtividadeExtracurricular_Samuel:\n",
    "    def __init__(self, nome, descricao, participantes):\n",
    "        self.__nome = nome\n",
    "        self.descricao = descricao\n",
    "        self.participantes = participantes  # lista de nomes\n",
    "\n",
    "    def get_nome_Samuel(self):\n",
    "        return self.__nome\n",
    "\n",
    "    def set_nome_Samuel(self, novo_nome):\n",
    "        self.__nome = novo_nome\n",
    "\n",
    "    def salvar_bd_Samuel(self, cursor, conexao):\n",
    "        participantes_str = \",\".join(self.participantes)\n",
    "        sql = \"INSERT INTO atividades (nome, descricao, participantes) VALUES (%s, %s, %s)\"\n",
    "        valores = (self.__nome, self.descricao, participantes_str)\n",
    "        cursor.execute(sql, valores)\n",
    "        conexao.commit()\n",
    "        print(f\"✅ Atividade '{self.__nome}' salva com sucesso!\")\n",
    "\n",
    "    def alterar_descricao_Samuel(self, nova_descricao, cursor, conexao):\n",
    "        self.descricao = nova_descricao\n",
    "        sql = \"UPDATE atividades SET descricao = %s WHERE nome = %s\"\n",
    "        cursor.execute(sql, (nova_descricao, self.__nome))\n",
    "        conexao.commit()\n",
    "        print(f\"✅ Descrição da atividade '{self.__nome}' alterada com sucesso!\")\n",
    "\n",
    "    def deletar_bd_Samuel(self, cursor, conexao):\n",
    "        sql = \"DELETE FROM atividades WHERE nome = %s\"\n",
    "        cursor.execute(sql, (self.__nome,))\n",
    "        conexao.commit()\n",
    "        print(f\"❌ Atividade '{self.__nome}' deletada com sucesso!\")\n",
    "\n",
    "    def exibir_dados_Samuel(self):\n",
    "        print(\"\\n=== Dados da Atividade ===\")\n",
    "        print(f\"Nome: {self.__nome}\")\n",
    "        print(f\"Descrição: {self.descricao}\")\n",
    "        print(f\"Participantes: {', '.join(self.participantes)}\")\n",
    "\n",
    "    @staticmethod\n",
    "    def listar_atividades_bd_Samuel(cursor):\n",
    "        cursor.execute(\"SELECT * FROM atividades\")\n",
    "        atividades = cursor.fetchall()\n",
    "        if not atividades:\n",
    "            print(\"\\n❌ Nenhuma atividade cadastrada.\")\n",
    "        else:\n",
    "            print(\"\\n=== Lista de Atividades ===\")\n",
    "            for atv in atividades:\n",
    "                print(f\"\\nID: {atv[0]}\")\n",
    "                print(f\"Nome: {atv[1]}\")\n",
    "                print(f\"Descrição: {atv[2]}\")\n",
    "                print(f\"Participantes: {atv[3]}\")\n",
    "\n",
    "def conectar_bd_Samuel():\n",
    "    conexao = mysql.connector.connect(\n",
    "        host='localhost',\n",
    "        user='root',\n",
    "        password='',\n",
    "        database='atividades_samuel_db'\n",
    "    )\n",
    "    return conexao\n",
    "\n",
    "def criar_tabela_Samuel(cursor, conexao):\n",
    "    cursor.execute('''\n",
    "    CREATE TABLE IF NOT EXISTS atividades (\n",
    "        id INT AUTO_INCREMENT PRIMARY KEY,\n",
    "        nome VARCHAR(255) NOT NULL,\n",
    "        descricao TEXT,\n",
    "        participantes TEXT\n",
    "    )\n",
    "    ''')\n",
    "    conexao.commit()\n",
    "\n",
    "# Menu principal\n",
    "def menu_Samuel():\n",
    "    conexao = conectar_bd_Samuel()\n",
    "    cursor = conexao.cursor()\n",
    "    criar_tabela_Samuel(cursor, conexao)\n",
    "\n",
    "    while True:\n",
    "        print(\"\\n===== MENU DE ATIVIDADES =====\")\n",
    "        print(\"1 - Cadastrar nova atividade\")\n",
    "        print(\"2 - Listar todas as atividades\")\n",
    "        print(\"3 - Alterar descrição de uma atividade\")\n",
    "        print(\"4 - Excluir uma atividade\")\n",
    "        print(\"0 - Sair\")\n",
    "        opcao = input(\"Escolha uma opção: \")\n",
    "\n",
    "        if opcao == \"1\":\n",
    "            nome = input(\"Nome da atividade: \")\n",
    "            descricao = input(\"Descrição: \")\n",
    "            participantes = input(\"Participantes (separados por vírgula): \").split(\",\")\n",
    "            atividade = AtividadeExtracurricular_Samuel(nome, descricao, [p.strip() for p in participantes])\n",
    "            atividade.salvar_bd_Samuel(cursor, conexao)\n",
    "\n",
    "        elif opcao == \"2\":\n",
    "            AtividadeExtracurricular_Samuel.listar_atividades_bd_Samuel(cursor)\n",
    "\n",
    "        elif opcao == \"3\":\n",
    "            nome = input(\"Digite o nome da atividade a alterar: \")\n",
    "            nova_desc = input(\"Nova descrição: \")\n",
    "            atividade = AtividadeExtracurricular_Samuel(nome, nova_desc, [])\n",
    "            atividade.alterar_descricao_Samuel(nova_desc, cursor, conexao)\n",
    "\n",
    "        elif opcao == \"4\":\n",
    "            nome = input(\"Digite o nome da atividade a excluir: \")\n",
    "            atividade = AtividadeExtracurricular_Samuel(nome, \"\", [])\n",
    "            atividade.deletar_bd_Samuel(cursor, conexao)\n",
    "\n",
    "        elif opcao == \"0\":\n",
    "            print(\"Saindo...\")\n",
    "            break\n",
    "        else:\n",
    "            print(\"❌ Opção inválida. Tente novamente.\")\n",
    "\n",
    "    cursor.close()\n",
    "    conexao.close()\n",
    "\n",
    "if __name__ == \"__main__\":\n",
    "    menu_Samuel()\n"
   ]
  }
 ],
 "metadata": {
  "kernelspec": {
   "display_name": "Python 3 (ipykernel)",
   "language": "python",
   "name": "python3"
  },
  "language_info": {
   "codemirror_mode": {
    "name": "ipython",
    "version": 3
   },
   "file_extension": ".py",
   "mimetype": "text/x-python",
   "name": "python",
   "nbconvert_exporter": "python",
   "pygments_lexer": "ipython3",
   "version": "3.9.13"
  }
 },
 "nbformat": 4,
 "nbformat_minor": 5
}
